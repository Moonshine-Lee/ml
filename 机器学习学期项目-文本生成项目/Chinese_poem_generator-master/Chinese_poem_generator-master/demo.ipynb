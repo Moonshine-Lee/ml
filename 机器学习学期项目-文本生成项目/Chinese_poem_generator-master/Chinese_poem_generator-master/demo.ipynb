{
 "cells": [
  {
   "cell_type": "code",
   "execution_count": 1,
   "metadata": {},
   "outputs": [
    {
     "name": "stderr",
     "output_type": "stream",
     "text": [
      "Using TensorFlow backend.\n",
      "C:\\Users\\PC028\\.conda\\envs\\tensorflow\\lib\\site-packages\\tensorflow\\python\\framework\\dtypes.py:458: FutureWarning: Passing (type, 1) or '1type' as a synonym of type is deprecated; in a future version of numpy, it will be understood as (type, (1,)) / '(1,)type'.\n",
      "  _np_qint8 = np.dtype([(\"qint8\", np.int8, 1)])\n",
      "C:\\Users\\PC028\\.conda\\envs\\tensorflow\\lib\\site-packages\\tensorflow\\python\\framework\\dtypes.py:459: FutureWarning: Passing (type, 1) or '1type' as a synonym of type is deprecated; in a future version of numpy, it will be understood as (type, (1,)) / '(1,)type'.\n",
      "  _np_quint8 = np.dtype([(\"quint8\", np.uint8, 1)])\n",
      "C:\\Users\\PC028\\.conda\\envs\\tensorflow\\lib\\site-packages\\tensorflow\\python\\framework\\dtypes.py:460: FutureWarning: Passing (type, 1) or '1type' as a synonym of type is deprecated; in a future version of numpy, it will be understood as (type, (1,)) / '(1,)type'.\n",
      "  _np_qint16 = np.dtype([(\"qint16\", np.int16, 1)])\n",
      "C:\\Users\\PC028\\.conda\\envs\\tensorflow\\lib\\site-packages\\tensorflow\\python\\framework\\dtypes.py:461: FutureWarning: Passing (type, 1) or '1type' as a synonym of type is deprecated; in a future version of numpy, it will be understood as (type, (1,)) / '(1,)type'.\n",
      "  _np_quint16 = np.dtype([(\"quint16\", np.uint16, 1)])\n",
      "C:\\Users\\PC028\\.conda\\envs\\tensorflow\\lib\\site-packages\\tensorflow\\python\\framework\\dtypes.py:462: FutureWarning: Passing (type, 1) or '1type' as a synonym of type is deprecated; in a future version of numpy, it will be understood as (type, (1,)) / '(1,)type'.\n",
      "  _np_qint32 = np.dtype([(\"qint32\", np.int32, 1)])\n",
      "C:\\Users\\PC028\\.conda\\envs\\tensorflow\\lib\\site-packages\\tensorflow\\python\\framework\\dtypes.py:465: FutureWarning: Passing (type, 1) or '1type' as a synonym of type is deprecated; in a future version of numpy, it will be understood as (type, (1,)) / '(1,)type'.\n",
      "  np_resource = np.dtype([(\"resource\", np.ubyte, 1)])\n"
     ]
    }
   ],
   "source": [
    "from config import *\n",
    "from preprocess import *\n",
    "from attention_layer import *\n",
    "from poetry_model import *"
   ]
  },
  {
   "cell_type": "markdown",
   "metadata": {},
   "source": [
    "### 训练五绝写诗模型，未使用Attention模型"
   ]
  },
  {
   "cell_type": "code",
   "execution_count": 8,
   "metadata": {},
   "outputs": [
    {
     "name": "stdout",
     "output_type": "stream",
     "text": [
      "training\n",
      "epochs =  34828\n",
      "poems num =  24149\n",
      "total words length =  1840814\n",
      "start training without Attention\n",
      "build model\n"
     ]
    },
    {
     "name": "stderr",
     "output_type": "stream",
     "text": [
      "D:\\code\\project-research\\Poems_generator\\github_ver\\poetry_model.py:69: UserWarning: Update your `LSTM` call to the Keras 2 API: `LSTM(activation=\"tanh\", return_sequences=True, units=512)`\n",
      "  lstm1_ = LSTM(output_dim = 512, activation = 'tanh', return_sequences = True)(input_)\n",
      "D:\\code\\project-research\\Poems_generator\\github_ver\\poetry_model.py:71: UserWarning: Update your `LSTM` call to the Keras 2 API: `LSTM(activation=\"tanh\", units=256)`\n",
      "  lstm2_ = LSTM(output_dim = 256, activation = 'tanh')(dropout1_)\n",
      "D:\\code\\project-research\\Poems_generator\\github_ver\\poetry_model.py:74: UserWarning: Update your `Model` call to the Keras 2 API: `Model(inputs=Tensor(\"in..., outputs=Tensor(\"de...)`\n",
      "  self.model = Model(inputs = input_, output = dense_)\n"
     ]
    },
    {
     "name": "stdout",
     "output_type": "stream",
     "text": [
      "_________________________________________________________________\n",
      "Layer (type)                 Output Shape              Param #   \n",
      "=================================================================\n",
      "input_3 (InputLayer)         (None, 6, 5546)           0         \n",
      "_________________________________________________________________\n",
      "lstm_5 (LSTM)                (None, 6, 512)            12408832  \n",
      "_________________________________________________________________\n",
      "dropout_5 (Dropout)          (None, 6, 512)            0         \n",
      "_________________________________________________________________\n",
      "lstm_6 (LSTM)                (None, 256)               787456    \n",
      "_________________________________________________________________\n",
      "dropout_6 (Dropout)          (None, 256)               0         \n",
      "_________________________________________________________________\n",
      "dense_3 (Dense)              (None, 5546)              1425322   \n",
      "=================================================================\n",
      "Total params: 14,621,610\n",
      "Trainable params: 14,621,610\n",
      "Non-trainable params: 0\n",
      "_________________________________________________________________\n",
      "Epoch 1/34828\n",
      "31/32 [============================>.] - ETA: 0s - loss: 8.6195 - acc: 0.0000e+00\n",
      "==============epoch 0=============\n",
      "\n",
      "the first line :  暗窗凉叶动，\n",
      "==========diversity 0.7=============\n",
      "暗窗凉叶动，觋鬟凰孀缰营仿旬赋村矰谏恬牲佯钻泓哳\n",
      "==========diversity 1=============\n",
      "暗窗凉叶动，谱灭麇丸鴒厢浼猛鴒苣掺需妆雾崷纩枳柩\n",
      "==========diversity 1.4=============\n",
      "暗窗凉叶动，徐戮酎抵缲钗轘阗鸯沿沾鲧柰劝蘩棨否把\n",
      "32/32 [==============================] - 19s 598ms/step - loss: 8.6194 - acc: 0.0000e+00\n",
      "Epoch 2/34828\n",
      "32/32 [==============================] - 15s 476ms/step - loss: 8.5971 - acc: 0.0938\n",
      "Epoch 3/34828\n",
      "32/32 [==============================] - 15s 469ms/step - loss: 8.0506 - acc: 0.0938\n",
      "Epoch 4/34828\n",
      "32/32 [==============================] - 16s 491ms/step - loss: 7.8674 - acc: 0.0938\n",
      "Epoch 5/34828\n",
      "31/32 [============================>.] - ETA: 0s - loss: 7.6852 - acc: 0.0968\n",
      "==============epoch 4=============\n",
      "\n",
      "the first line :  此去清凉顶，\n",
      "==========diversity 0.7=============\n",
      "此去清凉顶，葱跛扰谕椅醆饘，活不殷酥主莸捉弥嘒愬\n",
      "==========diversity 1=============\n",
      "此去清凉顶，，孩。检螯鸟。嫦。新庾耸，醮粮驺岚芰\n",
      "==========diversity 1.4=============\n",
      "此去清凉顶，诋褒斜揄。。程酱箸。。。隰伉带，，腠\n",
      "32/32 [==============================] - 17s 535ms/step - loss: 7.6445 - acc: 0.0938\n",
      "Epoch 6/34828\n",
      "32/32 [==============================] - 16s 507ms/step - loss: 7.3770 - acc: 0.0938\n",
      "Epoch 7/34828\n",
      "32/32 [==============================] - 16s 496ms/step - loss: 7.1234 - acc: 0.0312\n",
      "Epoch 8/34828\n",
      "32/32 [==============================] - 16s 486ms/step - loss: 7.4201 - acc: 0.0938\n",
      "Epoch 9/34828\n",
      "31/32 [============================>.] - ETA: 0s - loss: 7.3856 - acc: 0.0323\n",
      "==============epoch 8=============\n",
      "\n",
      "the first line :  登高上山上，\n",
      "==========diversity 0.7=============\n",
      "登高上山上，枻刓。桔契。忖雹皋兜白祅赌炮潓蛊滩霎\n",
      "==========diversity 1=============\n",
      "登高上山上，绽斝讦可存，夐渺畴俎带。驿嫔阡峻钥，\n",
      "==========diversity 1.4=============\n",
      "登高上山上，隔，蛟，。，，。，。，。。。。，。。\n",
      "32/32 [==============================] - 17s 541ms/step - loss: 7.1916 - acc: 0.0312\n",
      "Epoch 10/34828\n",
      "32/32 [==============================] - 15s 466ms/step - loss: 7.4790 - acc: 0.0312\n",
      "Epoch 11/34828\n",
      "32/32 [==============================] - 15s 458ms/step - loss: 7.2956 - acc: 0.0938\n",
      "Epoch 12/34828\n",
      "32/32 [==============================] - 15s 484ms/step - loss: 7.0332 - acc: 0.1562\n",
      "Epoch 13/34828\n",
      "31/32 [============================>.] - ETA: 0s - loss: 7.1613 - acc: 0.0968\n",
      "==============epoch 12=============\n",
      "\n",
      "the first line :  淅淅风生砌，\n",
      "==========diversity 0.7=============\n",
      "淅淅风生砌，渥贪涿卦，。阮望核呻，，芍拟翕。，。\n",
      "==========diversity 1=============\n",
      "淅淅风生砌，饬艘酢沼，。蚁著讹。，。罛庙，。，。\n",
      "==========diversity 1.4=============\n",
      "淅淅风生砌，腑徵贯风，。林。，。。，。，。，。。\n",
      "32/32 [==============================] - 17s 542ms/step - loss: 7.2070 - acc: 0.0938\n",
      "Epoch 14/34828\n",
      "32/32 [==============================] - 17s 534ms/step - loss: 7.5249 - acc: 0.0625\n",
      "Epoch 15/34828\n",
      "32/32 [==============================] - 15s 468ms/step - loss: 7.1028 - acc: 0.0312\n",
      "Epoch 16/34828\n",
      "32/32 [==============================] - 16s 501ms/step - loss: 7.3495 - acc: 0.1250\n",
      "Epoch 17/34828\n",
      "31/32 [============================>.] - ETA: 0s - loss: 7.2653 - acc: 0.0968\n",
      "==============epoch 16=============\n",
      "\n",
      "the first line :  忆昔避贼初，\n",
      "==========diversity 0.7=============\n",
      "忆昔避贼初，万崭擞爚闺，岳猾渟泗槚，泰债褥拊点蘸\n",
      "==========diversity 1=============\n",
      "忆昔避贼初，騂萤嘉弧琯。训此苣同加，艛茶蕲痛缋，\n",
      "==========diversity 1.4=============\n",
      "忆昔避贼初，澌檐秉枢打。隐琨傅孩。。，雠灸。，。\n",
      "32/32 [==============================] - 17s 525ms/step - loss: 7.3070 - acc: 0.0938\n",
      "Epoch 18/34828\n",
      "32/32 [==============================] - 15s 471ms/step - loss: 7.0611 - acc: 0.0000e+00\n",
      "Epoch 19/34828\n",
      "32/32 [==============================] - 15s 481ms/step - loss: 6.9853 - acc: 0.0312\n",
      "Epoch 20/34828\n",
      "32/32 [==============================] - 16s 486ms/step - loss: 7.0121 - acc: 0.1250\n",
      "Epoch 21/34828\n",
      "31/32 [============================>.] - ETA: 0s - loss: 6.6972 - acc: 0.0645\n",
      "==============epoch 20=============\n",
      "\n",
      "the first line :  朝阳有鸣凤，\n",
      "==========diversity 0.7=============\n",
      "朝阳有鸣凤，万影席燕私步黑肤汀装恭椒閟匠练捶惶啬\n",
      "==========diversity 1=============\n",
      "朝阳有鸣凤，郑新霞丸枭，奕衲圭斧河，鸟跃胞中琪。\n",
      "==========diversity 1.4=============\n",
      "朝阳有鸣凤，异发冠褧，，晬皎何憎。，匄，物耒。，\n",
      "32/32 [==============================] - 17s 535ms/step - loss: 6.4995 - acc: 0.0938\n",
      "Epoch 22/34828\n",
      "32/32 [==============================] - 16s 491ms/step - loss: 6.9189 - acc: 0.1250\n",
      "Epoch 23/34828\n",
      "32/32 [==============================] - 15s 470ms/step - loss: 6.9976 - acc: 0.0625\n",
      "Epoch 24/34828\n",
      "32/32 [==============================] - 15s 483ms/step - loss: 6.6158 - acc: 0.0625\n",
      "Epoch 25/34828\n",
      "31/32 [============================>.] - ETA: 0s - loss: 7.0110 - acc: 0.0645\n",
      "==============epoch 24=============\n",
      "\n",
      "the first line :  持颐望平绿，\n",
      "==========diversity 0.7=============\n",
      "持颐望平绿，品徂蚊葬燀，纛哓煮飖蠛，廊叇篦靴汾。\n",
      "==========diversity 1=============\n",
      "持颐望平绿，妄浥竹还醪。币信簳洼旌。发烟去月巧，\n",
      "==========diversity 1.4=============\n",
      "持颐望平绿，襁知媒白驺。喣月薮还岫，鸟续芳风芳。\n",
      "32/32 [==============================] - 18s 578ms/step - loss: 7.0658 - acc: 0.0625\n",
      "Epoch 26/34828\n",
      "32/32 [==============================] - 16s 485ms/step - loss: 7.1301 - acc: 0.0312\n",
      "Epoch 27/34828\n",
      "32/32 [==============================] - 16s 511ms/step - loss: 7.0602 - acc: 0.1250\n",
      "Epoch 28/34828\n",
      "32/32 [==============================] - 15s 474ms/step - loss: 7.3241 - acc: 0.0625\n",
      "Epoch 29/34828\n",
      "31/32 [============================>.] - ETA: 0s - loss: 6.6793 - acc: 0.0323\n",
      "==============epoch 28=============\n",
      "\n",
      "the first line :  上马行数里，\n",
      "==========diversity 0.7=============\n",
      "上马行数里，肝涂朝鲙音。脍唠巉啁误髑翥修重舆茜阳\n",
      "==========diversity 1=============\n",
      "上马行数里，痿气燕砉还。熏约沼嬴芭。交甍朮芥封。\n",
      "==========diversity 1.4=============\n",
      "上马行数里，起殿兰歔巴。菊瞳莺邈暍。鵮停桷险兹。\n",
      "32/32 [==============================] - 17s 539ms/step - loss: 6.6597 - acc: 0.0312\n",
      "Epoch 30/34828\n",
      "32/32 [==============================] - 16s 489ms/step - loss: 7.0658 - acc: 0.0938\n",
      "Epoch 31/34828\n",
      "32/32 [==============================] - 16s 514ms/step - loss: 7.5953 - acc: 0.0312\n",
      "Epoch 32/34828\n",
      "32/32 [==============================] - 15s 467ms/step - loss: 7.1522 - acc: 0.0625\n",
      "Epoch 33/34828\n",
      "31/32 [============================>.] - ETA: 0s - loss: 6.9092 - acc: 0.0000e+00\n",
      "==============epoch 32=============\n",
      "\n",
      "the first line :  一见林中客，\n",
      "==========diversity 0.7=============\n",
      "一见林中客，瀚畤覆贪表，起湛芳锥风创舞髭弦锻韬晴\n",
      "==========diversity 1=============\n",
      "一见林中客，起睆彩覃绥。寓忘。隩范。缃月，诚六。\n",
      "==========diversity 1.4=============\n",
      "一见林中客，草秋飞惧层，横苔峡赏，，卷幕犹邯，。\n",
      "32/32 [==============================] - 17s 535ms/step - loss: 6.7208 - acc: 0.0000e+00\n",
      "Epoch 34/34828\n",
      "32/32 [==============================] - 15s 479ms/step - loss: 7.0287 - acc: 0.0312\n",
      "Epoch 35/34828\n",
      "32/32 [==============================] - 16s 507ms/step - loss: 7.2427 - acc: 0.1250\n",
      "Epoch 36/34828\n",
      "32/32 [==============================] - 17s 520ms/step - loss: 7.0875 - acc: 0.1250\n",
      "Epoch 37/34828\n",
      "11/32 [=========>....................] - ETA: 10s - loss: 7.3382 - acc: 0.0000e+00"
     ]
    },
    {
     "ename": "KeyboardInterrupt",
     "evalue": "",
     "output_type": "error",
     "traceback": [
      "\u001b[1;31m---------------------------------------------------------------------------\u001b[0m",
      "\u001b[1;31mKeyboardInterrupt\u001b[0m                         Traceback (most recent call last)",
      "\u001b[1;32m<ipython-input-8-5b53589ee7c0>\u001b[0m in \u001b[0;36m<module>\u001b[1;34m()\u001b[0m\n\u001b[0;32m     22\u001b[0m \u001b[1;31m# train or loaded a model, it is up to your weight file\u001b[0m\u001b[1;33m\u001b[0m\u001b[1;33m\u001b[0m\u001b[0m\n\u001b[0;32m     23\u001b[0m \u001b[1;31m# use_atten argument default False, which means we train/load model without Attention layer\u001b[0m\u001b[1;33m\u001b[0m\u001b[1;33m\u001b[0m\u001b[0m\n\u001b[1;32m---> 24\u001b[1;33m \u001b[0mmodel\u001b[0m \u001b[1;33m=\u001b[0m \u001b[0mPoetryModel\u001b[0m\u001b[1;33m(\u001b[0m\u001b[0mconfig_\u001b[0m\u001b[1;33m,\u001b[0m \u001b[0muse_atten\u001b[0m \u001b[1;33m=\u001b[0m \u001b[1;32mFalse\u001b[0m\u001b[1;33m)\u001b[0m\u001b[1;33m\u001b[0m\u001b[0m\n\u001b[0m",
      "\u001b[1;32mD:\\code\\project-research\\Poems_generator\\github_ver\\poetry_model.py\u001b[0m in \u001b[0;36m__init__\u001b[1;34m(self, config, atten, use_atten)\u001b[0m\n\u001b[0;32m     58\u001b[0m                 \u001b[0mprint\u001b[0m\u001b[1;33m(\u001b[0m\u001b[1;34m'model without Attention loaded'\u001b[0m\u001b[1;33m)\u001b[0m\u001b[1;33m\u001b[0m\u001b[0m\n\u001b[0;32m     59\u001b[0m         \u001b[1;32melse\u001b[0m\u001b[1;33m:\u001b[0m\u001b[1;33m\u001b[0m\u001b[0m\n\u001b[1;32m---> 60\u001b[1;33m             \u001b[0mself\u001b[0m\u001b[1;33m.\u001b[0m\u001b[0mtrain\u001b[0m\u001b[1;33m(\u001b[0m\u001b[1;33m)\u001b[0m\u001b[1;33m\u001b[0m\u001b[0m\n\u001b[0m\u001b[0;32m     61\u001b[0m \u001b[1;33m\u001b[0m\u001b[0m\n\u001b[0;32m     62\u001b[0m     \u001b[1;32mdef\u001b[0m \u001b[0mbuild_model\u001b[0m\u001b[1;33m(\u001b[0m\u001b[0mself\u001b[0m\u001b[1;33m)\u001b[0m\u001b[1;33m:\u001b[0m\u001b[1;33m\u001b[0m\u001b[0m\n",
      "\u001b[1;32mD:\\code\\project-research\\Poems_generator\\github_ver\\poetry_model.py\u001b[0m in \u001b[0;36mtrain\u001b[1;34m(self)\u001b[0m\n\u001b[0;32m    230\u001b[0m         callbacks = [\n\u001b[0;32m    231\u001b[0m             \u001b[0mkeras\u001b[0m\u001b[1;33m.\u001b[0m\u001b[0mcallbacks\u001b[0m\u001b[1;33m.\u001b[0m\u001b[0mModelCheckpoint\u001b[0m\u001b[1;33m(\u001b[0m\u001b[0mself\u001b[0m\u001b[1;33m.\u001b[0m\u001b[0mconfig\u001b[0m\u001b[1;33m.\u001b[0m\u001b[0mweight_file\u001b[0m\u001b[1;33m,\u001b[0m \u001b[0msave_weights_only\u001b[0m\u001b[1;33m=\u001b[0m\u001b[1;32mFalse\u001b[0m\u001b[1;33m)\u001b[0m\u001b[1;33m,\u001b[0m\u001b[1;33m\u001b[0m\u001b[0m\n\u001b[1;32m--> 232\u001b[1;33m             \u001b[0mLambdaCallback\u001b[0m\u001b[1;33m(\u001b[0m\u001b[0mon_epoch_end\u001b[0m \u001b[1;33m=\u001b[0m \u001b[0mself\u001b[0m\u001b[1;33m.\u001b[0m\u001b[0mgenerate_sample_result\u001b[0m\u001b[1;33m)\u001b[0m\u001b[1;33m\u001b[0m\u001b[0m\n\u001b[0m\u001b[0;32m    233\u001b[0m         ]\n\u001b[0;32m    234\u001b[0m         )\n",
      "\u001b[1;32m~\\.conda\\envs\\tensorflow\\lib\\site-packages\\keras\\legacy\\interfaces.py\u001b[0m in \u001b[0;36mwrapper\u001b[1;34m(*args, **kwargs)\u001b[0m\n\u001b[0;32m     85\u001b[0m                 warnings.warn('Update your `' + object_name +\n\u001b[0;32m     86\u001b[0m                               '` call to the Keras 2 API: ' + signature, stacklevel=2)\n\u001b[1;32m---> 87\u001b[1;33m             \u001b[1;32mreturn\u001b[0m \u001b[0mfunc\u001b[0m\u001b[1;33m(\u001b[0m\u001b[1;33m*\u001b[0m\u001b[0margs\u001b[0m\u001b[1;33m,\u001b[0m \u001b[1;33m**\u001b[0m\u001b[0mkwargs\u001b[0m\u001b[1;33m)\u001b[0m\u001b[1;33m\u001b[0m\u001b[0m\n\u001b[0m\u001b[0;32m     88\u001b[0m         \u001b[0mwrapper\u001b[0m\u001b[1;33m.\u001b[0m\u001b[0m_original_function\u001b[0m \u001b[1;33m=\u001b[0m \u001b[0mfunc\u001b[0m\u001b[1;33m\u001b[0m\u001b[0m\n\u001b[0;32m     89\u001b[0m         \u001b[1;32mreturn\u001b[0m \u001b[0mwrapper\u001b[0m\u001b[1;33m\u001b[0m\u001b[0m\n",
      "\u001b[1;32m~\\.conda\\envs\\tensorflow\\lib\\site-packages\\keras\\engine\\training.py\u001b[0m in \u001b[0;36mfit_generator\u001b[1;34m(self, generator, steps_per_epoch, epochs, verbose, callbacks, validation_data, validation_steps, class_weight, max_queue_size, workers, use_multiprocessing, shuffle, initial_epoch)\u001b[0m\n\u001b[0;32m   2145\u001b[0m                     outs = self.train_on_batch(x, y,\n\u001b[0;32m   2146\u001b[0m                                                \u001b[0msample_weight\u001b[0m\u001b[1;33m=\u001b[0m\u001b[0msample_weight\u001b[0m\u001b[1;33m,\u001b[0m\u001b[1;33m\u001b[0m\u001b[0m\n\u001b[1;32m-> 2147\u001b[1;33m                                                class_weight=class_weight)\n\u001b[0m\u001b[0;32m   2148\u001b[0m \u001b[1;33m\u001b[0m\u001b[0m\n\u001b[0;32m   2149\u001b[0m                     \u001b[1;32mif\u001b[0m \u001b[1;32mnot\u001b[0m \u001b[0misinstance\u001b[0m\u001b[1;33m(\u001b[0m\u001b[0mouts\u001b[0m\u001b[1;33m,\u001b[0m \u001b[0mlist\u001b[0m\u001b[1;33m)\u001b[0m\u001b[1;33m:\u001b[0m\u001b[1;33m\u001b[0m\u001b[0m\n",
      "\u001b[1;32m~\\.conda\\envs\\tensorflow\\lib\\site-packages\\keras\\engine\\training.py\u001b[0m in \u001b[0;36mtrain_on_batch\u001b[1;34m(self, x, y, sample_weight, class_weight)\u001b[0m\n\u001b[0;32m   1837\u001b[0m             \u001b[0mins\u001b[0m \u001b[1;33m=\u001b[0m \u001b[0mx\u001b[0m \u001b[1;33m+\u001b[0m \u001b[0my\u001b[0m \u001b[1;33m+\u001b[0m \u001b[0msample_weights\u001b[0m\u001b[1;33m\u001b[0m\u001b[0m\n\u001b[0;32m   1838\u001b[0m         \u001b[0mself\u001b[0m\u001b[1;33m.\u001b[0m\u001b[0m_make_train_function\u001b[0m\u001b[1;33m(\u001b[0m\u001b[1;33m)\u001b[0m\u001b[1;33m\u001b[0m\u001b[0m\n\u001b[1;32m-> 1839\u001b[1;33m         \u001b[0moutputs\u001b[0m \u001b[1;33m=\u001b[0m \u001b[0mself\u001b[0m\u001b[1;33m.\u001b[0m\u001b[0mtrain_function\u001b[0m\u001b[1;33m(\u001b[0m\u001b[0mins\u001b[0m\u001b[1;33m)\u001b[0m\u001b[1;33m\u001b[0m\u001b[0m\n\u001b[0m\u001b[0;32m   1840\u001b[0m         \u001b[1;32mif\u001b[0m \u001b[0mlen\u001b[0m\u001b[1;33m(\u001b[0m\u001b[0moutputs\u001b[0m\u001b[1;33m)\u001b[0m \u001b[1;33m==\u001b[0m \u001b[1;36m1\u001b[0m\u001b[1;33m:\u001b[0m\u001b[1;33m\u001b[0m\u001b[0m\n\u001b[0;32m   1841\u001b[0m             \u001b[1;32mreturn\u001b[0m \u001b[0moutputs\u001b[0m\u001b[1;33m[\u001b[0m\u001b[1;36m0\u001b[0m\u001b[1;33m]\u001b[0m\u001b[1;33m\u001b[0m\u001b[0m\n",
      "\u001b[1;32m~\\.conda\\envs\\tensorflow\\lib\\site-packages\\keras\\backend\\tensorflow_backend.py\u001b[0m in \u001b[0;36m__call__\u001b[1;34m(self, inputs)\u001b[0m\n\u001b[0;32m   2355\u001b[0m         \u001b[0msession\u001b[0m \u001b[1;33m=\u001b[0m \u001b[0mget_session\u001b[0m\u001b[1;33m(\u001b[0m\u001b[1;33m)\u001b[0m\u001b[1;33m\u001b[0m\u001b[0m\n\u001b[0;32m   2356\u001b[0m         updated = session.run(fetches=fetches, feed_dict=feed_dict,\n\u001b[1;32m-> 2357\u001b[1;33m                               **self.session_kwargs)\n\u001b[0m\u001b[0;32m   2358\u001b[0m         \u001b[1;32mreturn\u001b[0m \u001b[0mupdated\u001b[0m\u001b[1;33m[\u001b[0m\u001b[1;33m:\u001b[0m\u001b[0mlen\u001b[0m\u001b[1;33m(\u001b[0m\u001b[0mself\u001b[0m\u001b[1;33m.\u001b[0m\u001b[0moutputs\u001b[0m\u001b[1;33m)\u001b[0m\u001b[1;33m]\u001b[0m\u001b[1;33m\u001b[0m\u001b[0m\n\u001b[0;32m   2359\u001b[0m \u001b[1;33m\u001b[0m\u001b[0m\n",
      "\u001b[1;32m~\\.conda\\envs\\tensorflow\\lib\\site-packages\\tensorflow\\python\\client\\session.py\u001b[0m in \u001b[0;36mrun\u001b[1;34m(self, fetches, feed_dict, options, run_metadata)\u001b[0m\n\u001b[0;32m    787\u001b[0m     \u001b[1;32mtry\u001b[0m\u001b[1;33m:\u001b[0m\u001b[1;33m\u001b[0m\u001b[0m\n\u001b[0;32m    788\u001b[0m       result = self._run(None, fetches, feed_dict, options_ptr,\n\u001b[1;32m--> 789\u001b[1;33m                          run_metadata_ptr)\n\u001b[0m\u001b[0;32m    790\u001b[0m       \u001b[1;32mif\u001b[0m \u001b[0mrun_metadata\u001b[0m\u001b[1;33m:\u001b[0m\u001b[1;33m\u001b[0m\u001b[0m\n\u001b[0;32m    791\u001b[0m         \u001b[0mproto_data\u001b[0m \u001b[1;33m=\u001b[0m \u001b[0mtf_session\u001b[0m\u001b[1;33m.\u001b[0m\u001b[0mTF_GetBuffer\u001b[0m\u001b[1;33m(\u001b[0m\u001b[0mrun_metadata_ptr\u001b[0m\u001b[1;33m)\u001b[0m\u001b[1;33m\u001b[0m\u001b[0m\n",
      "\u001b[1;32m~\\.conda\\envs\\tensorflow\\lib\\site-packages\\tensorflow\\python\\client\\session.py\u001b[0m in \u001b[0;36m_run\u001b[1;34m(self, handle, fetches, feed_dict, options, run_metadata)\u001b[0m\n\u001b[0;32m    995\u001b[0m     \u001b[1;32mif\u001b[0m \u001b[0mfinal_fetches\u001b[0m \u001b[1;32mor\u001b[0m \u001b[0mfinal_targets\u001b[0m\u001b[1;33m:\u001b[0m\u001b[1;33m\u001b[0m\u001b[0m\n\u001b[0;32m    996\u001b[0m       results = self._do_run(handle, final_targets, final_fetches,\n\u001b[1;32m--> 997\u001b[1;33m                              feed_dict_string, options, run_metadata)\n\u001b[0m\u001b[0;32m    998\u001b[0m     \u001b[1;32melse\u001b[0m\u001b[1;33m:\u001b[0m\u001b[1;33m\u001b[0m\u001b[0m\n\u001b[0;32m    999\u001b[0m       \u001b[0mresults\u001b[0m \u001b[1;33m=\u001b[0m \u001b[1;33m[\u001b[0m\u001b[1;33m]\u001b[0m\u001b[1;33m\u001b[0m\u001b[0m\n",
      "\u001b[1;32m~\\.conda\\envs\\tensorflow\\lib\\site-packages\\tensorflow\\python\\client\\session.py\u001b[0m in \u001b[0;36m_do_run\u001b[1;34m(self, handle, target_list, fetch_list, feed_dict, options, run_metadata)\u001b[0m\n\u001b[0;32m   1130\u001b[0m     \u001b[1;32mif\u001b[0m \u001b[0mhandle\u001b[0m \u001b[1;32mis\u001b[0m \u001b[1;32mNone\u001b[0m\u001b[1;33m:\u001b[0m\u001b[1;33m\u001b[0m\u001b[0m\n\u001b[0;32m   1131\u001b[0m       return self._do_call(_run_fn, self._session, feed_dict, fetch_list,\n\u001b[1;32m-> 1132\u001b[1;33m                            target_list, options, run_metadata)\n\u001b[0m\u001b[0;32m   1133\u001b[0m     \u001b[1;32melse\u001b[0m\u001b[1;33m:\u001b[0m\u001b[1;33m\u001b[0m\u001b[0m\n\u001b[0;32m   1134\u001b[0m       return self._do_call(_prun_fn, self._session, handle, feed_dict,\n",
      "\u001b[1;32m~\\.conda\\envs\\tensorflow\\lib\\site-packages\\tensorflow\\python\\client\\session.py\u001b[0m in \u001b[0;36m_do_call\u001b[1;34m(self, fn, *args)\u001b[0m\n\u001b[0;32m   1137\u001b[0m   \u001b[1;32mdef\u001b[0m \u001b[0m_do_call\u001b[0m\u001b[1;33m(\u001b[0m\u001b[0mself\u001b[0m\u001b[1;33m,\u001b[0m \u001b[0mfn\u001b[0m\u001b[1;33m,\u001b[0m \u001b[1;33m*\u001b[0m\u001b[0margs\u001b[0m\u001b[1;33m)\u001b[0m\u001b[1;33m:\u001b[0m\u001b[1;33m\u001b[0m\u001b[0m\n\u001b[0;32m   1138\u001b[0m     \u001b[1;32mtry\u001b[0m\u001b[1;33m:\u001b[0m\u001b[1;33m\u001b[0m\u001b[0m\n\u001b[1;32m-> 1139\u001b[1;33m       \u001b[1;32mreturn\u001b[0m \u001b[0mfn\u001b[0m\u001b[1;33m(\u001b[0m\u001b[1;33m*\u001b[0m\u001b[0margs\u001b[0m\u001b[1;33m)\u001b[0m\u001b[1;33m\u001b[0m\u001b[0m\n\u001b[0m\u001b[0;32m   1140\u001b[0m     \u001b[1;32mexcept\u001b[0m \u001b[0merrors\u001b[0m\u001b[1;33m.\u001b[0m\u001b[0mOpError\u001b[0m \u001b[1;32mas\u001b[0m \u001b[0me\u001b[0m\u001b[1;33m:\u001b[0m\u001b[1;33m\u001b[0m\u001b[0m\n\u001b[0;32m   1141\u001b[0m       \u001b[0mmessage\u001b[0m \u001b[1;33m=\u001b[0m \u001b[0mcompat\u001b[0m\u001b[1;33m.\u001b[0m\u001b[0mas_text\u001b[0m\u001b[1;33m(\u001b[0m\u001b[0me\u001b[0m\u001b[1;33m.\u001b[0m\u001b[0mmessage\u001b[0m\u001b[1;33m)\u001b[0m\u001b[1;33m\u001b[0m\u001b[0m\n",
      "\u001b[1;32m~\\.conda\\envs\\tensorflow\\lib\\site-packages\\tensorflow\\python\\client\\session.py\u001b[0m in \u001b[0;36m_run_fn\u001b[1;34m(session, feed_dict, fetch_list, target_list, options, run_metadata)\u001b[0m\n\u001b[0;32m   1119\u001b[0m         return tf_session.TF_Run(session, options,\n\u001b[0;32m   1120\u001b[0m                                  \u001b[0mfeed_dict\u001b[0m\u001b[1;33m,\u001b[0m \u001b[0mfetch_list\u001b[0m\u001b[1;33m,\u001b[0m \u001b[0mtarget_list\u001b[0m\u001b[1;33m,\u001b[0m\u001b[1;33m\u001b[0m\u001b[0m\n\u001b[1;32m-> 1121\u001b[1;33m                                  status, run_metadata)\n\u001b[0m\u001b[0;32m   1122\u001b[0m \u001b[1;33m\u001b[0m\u001b[0m\n\u001b[0;32m   1123\u001b[0m     \u001b[1;32mdef\u001b[0m \u001b[0m_prun_fn\u001b[0m\u001b[1;33m(\u001b[0m\u001b[0msession\u001b[0m\u001b[1;33m,\u001b[0m \u001b[0mhandle\u001b[0m\u001b[1;33m,\u001b[0m \u001b[0mfeed_dict\u001b[0m\u001b[1;33m,\u001b[0m \u001b[0mfetch_list\u001b[0m\u001b[1;33m)\u001b[0m\u001b[1;33m:\u001b[0m\u001b[1;33m\u001b[0m\u001b[0m\n",
      "\u001b[1;31mKeyboardInterrupt\u001b[0m: "
     ]
    }
   ],
   "source": [
    "# according requirement to adjust, can be 7 or other nums(other nums means we dont choose training data) \n",
    "form_ = 5 \n",
    "# input data\n",
    "poetry_file_ = 'D:/code/project-research/Poems_generator/Poems_generator_Keras-master_youyuge/dataset/poetry.txt'\n",
    "\n",
    "# if you would like to train a model, weight_file must not exists, else model will be loaded\n",
    "weight_file_ = 'D:/code/project-research/Poems_generator/a_new_created_filename.h5'\n",
    "\n",
    "# commonly max_len equals form plus 1\n",
    "max_len_ = 6\n",
    "\n",
    "# batch_size default 32, could be changed accordding to your CPU/GPU RAM\n",
    "batch_size_ = 32\n",
    "\n",
    "# learning rate could be changed\n",
    "learning_rate_ = 0.0005\n",
    "\n",
    "# configuration file\n",
    "config_ = Config(poetry_file = poetry_file_, weight_file = weight_file_, max_len = max_len_, batch_size = batch_size_, \n",
    "                           learning_rate = learning_rate_, form = form_)\n",
    "\n",
    "# train or loaded a model, it is up to your weight file\n",
    "# use_atten argument default False, which means we train/load model without Attention layer\n",
    "model = PoetryModel(config_, use_atten = False)\n"
   ]
  },
  {
   "cell_type": "markdown",
   "metadata": {},
   "source": [
    "### 训练五绝写诗模型，使用Attention Layer"
   ]
  },
  {
   "cell_type": "code",
   "execution_count": 3,
   "metadata": {},
   "outputs": [
    {
     "name": "stdout",
     "output_type": "stream",
     "text": [
      "training\n",
      "epochs =  34828\n",
      "poems num =  24149\n",
      "total words length =  1840814\n",
      "start training with Attention\n",
      "build model\n"
     ]
    },
    {
     "name": "stderr",
     "output_type": "stream",
     "text": [
      "D:\\code\\project-research\\Poems_generator\\github_ver\\poetry_model.py:86: UserWarning: Update your `LSTM` call to the Keras 2 API: `LSTM(activation=\"tanh\", return_sequences=True, units=512)`\n",
      "  lstm1_ = LSTM(output_dim = 512, activation = 'tanh', return_sequences = True)(input_)\n",
      "D:\\code\\project-research\\Poems_generator\\github_ver\\poetry_model.py:88: UserWarning: Update your `LSTM` call to the Keras 2 API: `LSTM(activation=\"tanh\", return_sequences=True, units=256)`\n",
      "  lstm2_ = LSTM(output_dim =  256, activation = 'tanh', return_sequences = True)(dropout1_)\n",
      "D:\\code\\project-research\\Poems_generator\\github_ver\\poetry_model.py:92: UserWarning: Update your `Model` call to the Keras 2 API: `Model(inputs=Tensor(\"in..., outputs=Tensor(\"de...)`\n",
      "  self.model = Model(inputs = input_, output = dense_)\n"
     ]
    },
    {
     "name": "stdout",
     "output_type": "stream",
     "text": [
      "_________________________________________________________________\n",
      "Layer (type)                 Output Shape              Param #   \n",
      "=================================================================\n",
      "input_2 (InputLayer)         (None, 6, 5546)           0         \n",
      "_________________________________________________________________\n",
      "lstm_3 (LSTM)                (None, 6, 512)            12408832  \n",
      "_________________________________________________________________\n",
      "dropout_3 (Dropout)          (None, 6, 512)            0         \n",
      "_________________________________________________________________\n",
      "lstm_4 (LSTM)                (None, 6, 256)            787456    \n",
      "_________________________________________________________________\n",
      "attention_1 (Attention)      (None, 256)               262       \n",
      "_________________________________________________________________\n",
      "dropout_4 (Dropout)          (None, 256)               0         \n",
      "_________________________________________________________________\n",
      "dense_2 (Dense)              (None, 5546)              1425322   \n",
      "=================================================================\n",
      "Total params: 14,621,872\n",
      "Trainable params: 14,621,872\n",
      "Non-trainable params: 0\n",
      "_________________________________________________________________\n",
      "Epoch 1/34828\n",
      "22/32 [===================>..........] - ETA: 5s - loss: 8.6204 - acc: 0.0000e+00"
     ]
    },
    {
     "ename": "KeyboardInterrupt",
     "evalue": "",
     "output_type": "error",
     "traceback": [
      "\u001b[1;31m---------------------------------------------------------------------------\u001b[0m",
      "\u001b[1;31mKeyboardInterrupt\u001b[0m                         Traceback (most recent call last)",
      "\u001b[1;32m<ipython-input-3-4caeea00e1a7>\u001b[0m in \u001b[0;36m<module>\u001b[1;34m()\u001b[0m\n\u001b[0;32m     25\u001b[0m \u001b[1;31m# train or loaded a model, it is up to your weight file\u001b[0m\u001b[1;33m\u001b[0m\u001b[1;33m\u001b[0m\u001b[0m\n\u001b[0;32m     26\u001b[0m \u001b[1;31m# use_atten argument default False, which means we train/load model without Attention layer\u001b[0m\u001b[1;33m\u001b[0m\u001b[1;33m\u001b[0m\u001b[0m\n\u001b[1;32m---> 27\u001b[1;33m \u001b[0mmodel\u001b[0m \u001b[1;33m=\u001b[0m \u001b[0mPoetryModel\u001b[0m\u001b[1;33m(\u001b[0m\u001b[0mconfig_\u001b[0m\u001b[1;33m,\u001b[0m\u001b[0matten_\u001b[0m\u001b[1;33m,\u001b[0m \u001b[0muse_atten\u001b[0m \u001b[1;33m=\u001b[0m \u001b[1;32mTrue\u001b[0m\u001b[1;33m)\u001b[0m\u001b[1;33m\u001b[0m\u001b[0m\n\u001b[0m",
      "\u001b[1;32mD:\\code\\project-research\\Poems_generator\\github_ver\\poetry_model.py\u001b[0m in \u001b[0;36m__init__\u001b[1;34m(self, config, atten, use_atten)\u001b[0m\n\u001b[0;32m     58\u001b[0m                 \u001b[0mprint\u001b[0m\u001b[1;33m(\u001b[0m\u001b[1;34m'model without Attention loaded'\u001b[0m\u001b[1;33m)\u001b[0m\u001b[1;33m\u001b[0m\u001b[0m\n\u001b[0;32m     59\u001b[0m         \u001b[1;32melse\u001b[0m\u001b[1;33m:\u001b[0m\u001b[1;33m\u001b[0m\u001b[0m\n\u001b[1;32m---> 60\u001b[1;33m             \u001b[0mself\u001b[0m\u001b[1;33m.\u001b[0m\u001b[0mtrain\u001b[0m\u001b[1;33m(\u001b[0m\u001b[1;33m)\u001b[0m\u001b[1;33m\u001b[0m\u001b[0m\n\u001b[0m\u001b[0;32m     61\u001b[0m \u001b[1;33m\u001b[0m\u001b[0m\n\u001b[0;32m     62\u001b[0m     \u001b[1;32mdef\u001b[0m \u001b[0mbuild_model\u001b[0m\u001b[1;33m(\u001b[0m\u001b[0mself\u001b[0m\u001b[1;33m)\u001b[0m\u001b[1;33m:\u001b[0m\u001b[1;33m\u001b[0m\u001b[0m\n",
      "\u001b[1;32mD:\\code\\project-research\\Poems_generator\\github_ver\\poetry_model.py\u001b[0m in \u001b[0;36mtrain\u001b[1;34m(self)\u001b[0m\n\u001b[0;32m    230\u001b[0m         callbacks = [\n\u001b[0;32m    231\u001b[0m             \u001b[0mkeras\u001b[0m\u001b[1;33m.\u001b[0m\u001b[0mcallbacks\u001b[0m\u001b[1;33m.\u001b[0m\u001b[0mModelCheckpoint\u001b[0m\u001b[1;33m(\u001b[0m\u001b[0mself\u001b[0m\u001b[1;33m.\u001b[0m\u001b[0mconfig\u001b[0m\u001b[1;33m.\u001b[0m\u001b[0mweight_file\u001b[0m\u001b[1;33m,\u001b[0m \u001b[0msave_weights_only\u001b[0m\u001b[1;33m=\u001b[0m\u001b[1;32mFalse\u001b[0m\u001b[1;33m)\u001b[0m\u001b[1;33m,\u001b[0m\u001b[1;33m\u001b[0m\u001b[0m\n\u001b[1;32m--> 232\u001b[1;33m             \u001b[0mLambdaCallback\u001b[0m\u001b[1;33m(\u001b[0m\u001b[0mon_epoch_end\u001b[0m \u001b[1;33m=\u001b[0m \u001b[0mself\u001b[0m\u001b[1;33m.\u001b[0m\u001b[0mgenerate_sample_result\u001b[0m\u001b[1;33m)\u001b[0m\u001b[1;33m\u001b[0m\u001b[0m\n\u001b[0m\u001b[0;32m    233\u001b[0m         ]\n\u001b[0;32m    234\u001b[0m         )\n",
      "\u001b[1;32m~\\.conda\\envs\\tensorflow\\lib\\site-packages\\keras\\legacy\\interfaces.py\u001b[0m in \u001b[0;36mwrapper\u001b[1;34m(*args, **kwargs)\u001b[0m\n\u001b[0;32m     85\u001b[0m                 warnings.warn('Update your `' + object_name +\n\u001b[0;32m     86\u001b[0m                               '` call to the Keras 2 API: ' + signature, stacklevel=2)\n\u001b[1;32m---> 87\u001b[1;33m             \u001b[1;32mreturn\u001b[0m \u001b[0mfunc\u001b[0m\u001b[1;33m(\u001b[0m\u001b[1;33m*\u001b[0m\u001b[0margs\u001b[0m\u001b[1;33m,\u001b[0m \u001b[1;33m**\u001b[0m\u001b[0mkwargs\u001b[0m\u001b[1;33m)\u001b[0m\u001b[1;33m\u001b[0m\u001b[0m\n\u001b[0m\u001b[0;32m     88\u001b[0m         \u001b[0mwrapper\u001b[0m\u001b[1;33m.\u001b[0m\u001b[0m_original_function\u001b[0m \u001b[1;33m=\u001b[0m \u001b[0mfunc\u001b[0m\u001b[1;33m\u001b[0m\u001b[0m\n\u001b[0;32m     89\u001b[0m         \u001b[1;32mreturn\u001b[0m \u001b[0mwrapper\u001b[0m\u001b[1;33m\u001b[0m\u001b[0m\n",
      "\u001b[1;32m~\\.conda\\envs\\tensorflow\\lib\\site-packages\\keras\\engine\\training.py\u001b[0m in \u001b[0;36mfit_generator\u001b[1;34m(self, generator, steps_per_epoch, epochs, verbose, callbacks, validation_data, validation_steps, class_weight, max_queue_size, workers, use_multiprocessing, shuffle, initial_epoch)\u001b[0m\n\u001b[0;32m   2145\u001b[0m                     outs = self.train_on_batch(x, y,\n\u001b[0;32m   2146\u001b[0m                                                \u001b[0msample_weight\u001b[0m\u001b[1;33m=\u001b[0m\u001b[0msample_weight\u001b[0m\u001b[1;33m,\u001b[0m\u001b[1;33m\u001b[0m\u001b[0m\n\u001b[1;32m-> 2147\u001b[1;33m                                                class_weight=class_weight)\n\u001b[0m\u001b[0;32m   2148\u001b[0m \u001b[1;33m\u001b[0m\u001b[0m\n\u001b[0;32m   2149\u001b[0m                     \u001b[1;32mif\u001b[0m \u001b[1;32mnot\u001b[0m \u001b[0misinstance\u001b[0m\u001b[1;33m(\u001b[0m\u001b[0mouts\u001b[0m\u001b[1;33m,\u001b[0m \u001b[0mlist\u001b[0m\u001b[1;33m)\u001b[0m\u001b[1;33m:\u001b[0m\u001b[1;33m\u001b[0m\u001b[0m\n",
      "\u001b[1;32m~\\.conda\\envs\\tensorflow\\lib\\site-packages\\keras\\engine\\training.py\u001b[0m in \u001b[0;36mtrain_on_batch\u001b[1;34m(self, x, y, sample_weight, class_weight)\u001b[0m\n\u001b[0;32m   1837\u001b[0m             \u001b[0mins\u001b[0m \u001b[1;33m=\u001b[0m \u001b[0mx\u001b[0m \u001b[1;33m+\u001b[0m \u001b[0my\u001b[0m \u001b[1;33m+\u001b[0m \u001b[0msample_weights\u001b[0m\u001b[1;33m\u001b[0m\u001b[0m\n\u001b[0;32m   1838\u001b[0m         \u001b[0mself\u001b[0m\u001b[1;33m.\u001b[0m\u001b[0m_make_train_function\u001b[0m\u001b[1;33m(\u001b[0m\u001b[1;33m)\u001b[0m\u001b[1;33m\u001b[0m\u001b[0m\n\u001b[1;32m-> 1839\u001b[1;33m         \u001b[0moutputs\u001b[0m \u001b[1;33m=\u001b[0m \u001b[0mself\u001b[0m\u001b[1;33m.\u001b[0m\u001b[0mtrain_function\u001b[0m\u001b[1;33m(\u001b[0m\u001b[0mins\u001b[0m\u001b[1;33m)\u001b[0m\u001b[1;33m\u001b[0m\u001b[0m\n\u001b[0m\u001b[0;32m   1840\u001b[0m         \u001b[1;32mif\u001b[0m \u001b[0mlen\u001b[0m\u001b[1;33m(\u001b[0m\u001b[0moutputs\u001b[0m\u001b[1;33m)\u001b[0m \u001b[1;33m==\u001b[0m \u001b[1;36m1\u001b[0m\u001b[1;33m:\u001b[0m\u001b[1;33m\u001b[0m\u001b[0m\n\u001b[0;32m   1841\u001b[0m             \u001b[1;32mreturn\u001b[0m \u001b[0moutputs\u001b[0m\u001b[1;33m[\u001b[0m\u001b[1;36m0\u001b[0m\u001b[1;33m]\u001b[0m\u001b[1;33m\u001b[0m\u001b[0m\n",
      "\u001b[1;32m~\\.conda\\envs\\tensorflow\\lib\\site-packages\\keras\\backend\\tensorflow_backend.py\u001b[0m in \u001b[0;36m__call__\u001b[1;34m(self, inputs)\u001b[0m\n\u001b[0;32m   2355\u001b[0m         \u001b[0msession\u001b[0m \u001b[1;33m=\u001b[0m \u001b[0mget_session\u001b[0m\u001b[1;33m(\u001b[0m\u001b[1;33m)\u001b[0m\u001b[1;33m\u001b[0m\u001b[0m\n\u001b[0;32m   2356\u001b[0m         updated = session.run(fetches=fetches, feed_dict=feed_dict,\n\u001b[1;32m-> 2357\u001b[1;33m                               **self.session_kwargs)\n\u001b[0m\u001b[0;32m   2358\u001b[0m         \u001b[1;32mreturn\u001b[0m \u001b[0mupdated\u001b[0m\u001b[1;33m[\u001b[0m\u001b[1;33m:\u001b[0m\u001b[0mlen\u001b[0m\u001b[1;33m(\u001b[0m\u001b[0mself\u001b[0m\u001b[1;33m.\u001b[0m\u001b[0moutputs\u001b[0m\u001b[1;33m)\u001b[0m\u001b[1;33m]\u001b[0m\u001b[1;33m\u001b[0m\u001b[0m\n\u001b[0;32m   2359\u001b[0m \u001b[1;33m\u001b[0m\u001b[0m\n",
      "\u001b[1;32m~\\.conda\\envs\\tensorflow\\lib\\site-packages\\tensorflow\\python\\client\\session.py\u001b[0m in \u001b[0;36mrun\u001b[1;34m(self, fetches, feed_dict, options, run_metadata)\u001b[0m\n\u001b[0;32m    787\u001b[0m     \u001b[1;32mtry\u001b[0m\u001b[1;33m:\u001b[0m\u001b[1;33m\u001b[0m\u001b[0m\n\u001b[0;32m    788\u001b[0m       result = self._run(None, fetches, feed_dict, options_ptr,\n\u001b[1;32m--> 789\u001b[1;33m                          run_metadata_ptr)\n\u001b[0m\u001b[0;32m    790\u001b[0m       \u001b[1;32mif\u001b[0m \u001b[0mrun_metadata\u001b[0m\u001b[1;33m:\u001b[0m\u001b[1;33m\u001b[0m\u001b[0m\n\u001b[0;32m    791\u001b[0m         \u001b[0mproto_data\u001b[0m \u001b[1;33m=\u001b[0m \u001b[0mtf_session\u001b[0m\u001b[1;33m.\u001b[0m\u001b[0mTF_GetBuffer\u001b[0m\u001b[1;33m(\u001b[0m\u001b[0mrun_metadata_ptr\u001b[0m\u001b[1;33m)\u001b[0m\u001b[1;33m\u001b[0m\u001b[0m\n",
      "\u001b[1;32m~\\.conda\\envs\\tensorflow\\lib\\site-packages\\tensorflow\\python\\client\\session.py\u001b[0m in \u001b[0;36m_run\u001b[1;34m(self, handle, fetches, feed_dict, options, run_metadata)\u001b[0m\n\u001b[0;32m    995\u001b[0m     \u001b[1;32mif\u001b[0m \u001b[0mfinal_fetches\u001b[0m \u001b[1;32mor\u001b[0m \u001b[0mfinal_targets\u001b[0m\u001b[1;33m:\u001b[0m\u001b[1;33m\u001b[0m\u001b[0m\n\u001b[0;32m    996\u001b[0m       results = self._do_run(handle, final_targets, final_fetches,\n\u001b[1;32m--> 997\u001b[1;33m                              feed_dict_string, options, run_metadata)\n\u001b[0m\u001b[0;32m    998\u001b[0m     \u001b[1;32melse\u001b[0m\u001b[1;33m:\u001b[0m\u001b[1;33m\u001b[0m\u001b[0m\n\u001b[0;32m    999\u001b[0m       \u001b[0mresults\u001b[0m \u001b[1;33m=\u001b[0m \u001b[1;33m[\u001b[0m\u001b[1;33m]\u001b[0m\u001b[1;33m\u001b[0m\u001b[0m\n",
      "\u001b[1;32m~\\.conda\\envs\\tensorflow\\lib\\site-packages\\tensorflow\\python\\client\\session.py\u001b[0m in \u001b[0;36m_do_run\u001b[1;34m(self, handle, target_list, fetch_list, feed_dict, options, run_metadata)\u001b[0m\n\u001b[0;32m   1130\u001b[0m     \u001b[1;32mif\u001b[0m \u001b[0mhandle\u001b[0m \u001b[1;32mis\u001b[0m \u001b[1;32mNone\u001b[0m\u001b[1;33m:\u001b[0m\u001b[1;33m\u001b[0m\u001b[0m\n\u001b[0;32m   1131\u001b[0m       return self._do_call(_run_fn, self._session, feed_dict, fetch_list,\n\u001b[1;32m-> 1132\u001b[1;33m                            target_list, options, run_metadata)\n\u001b[0m\u001b[0;32m   1133\u001b[0m     \u001b[1;32melse\u001b[0m\u001b[1;33m:\u001b[0m\u001b[1;33m\u001b[0m\u001b[0m\n\u001b[0;32m   1134\u001b[0m       return self._do_call(_prun_fn, self._session, handle, feed_dict,\n",
      "\u001b[1;32m~\\.conda\\envs\\tensorflow\\lib\\site-packages\\tensorflow\\python\\client\\session.py\u001b[0m in \u001b[0;36m_do_call\u001b[1;34m(self, fn, *args)\u001b[0m\n\u001b[0;32m   1137\u001b[0m   \u001b[1;32mdef\u001b[0m \u001b[0m_do_call\u001b[0m\u001b[1;33m(\u001b[0m\u001b[0mself\u001b[0m\u001b[1;33m,\u001b[0m \u001b[0mfn\u001b[0m\u001b[1;33m,\u001b[0m \u001b[1;33m*\u001b[0m\u001b[0margs\u001b[0m\u001b[1;33m)\u001b[0m\u001b[1;33m:\u001b[0m\u001b[1;33m\u001b[0m\u001b[0m\n\u001b[0;32m   1138\u001b[0m     \u001b[1;32mtry\u001b[0m\u001b[1;33m:\u001b[0m\u001b[1;33m\u001b[0m\u001b[0m\n\u001b[1;32m-> 1139\u001b[1;33m       \u001b[1;32mreturn\u001b[0m \u001b[0mfn\u001b[0m\u001b[1;33m(\u001b[0m\u001b[1;33m*\u001b[0m\u001b[0margs\u001b[0m\u001b[1;33m)\u001b[0m\u001b[1;33m\u001b[0m\u001b[0m\n\u001b[0m\u001b[0;32m   1140\u001b[0m     \u001b[1;32mexcept\u001b[0m \u001b[0merrors\u001b[0m\u001b[1;33m.\u001b[0m\u001b[0mOpError\u001b[0m \u001b[1;32mas\u001b[0m \u001b[0me\u001b[0m\u001b[1;33m:\u001b[0m\u001b[1;33m\u001b[0m\u001b[0m\n\u001b[0;32m   1141\u001b[0m       \u001b[0mmessage\u001b[0m \u001b[1;33m=\u001b[0m \u001b[0mcompat\u001b[0m\u001b[1;33m.\u001b[0m\u001b[0mas_text\u001b[0m\u001b[1;33m(\u001b[0m\u001b[0me\u001b[0m\u001b[1;33m.\u001b[0m\u001b[0mmessage\u001b[0m\u001b[1;33m)\u001b[0m\u001b[1;33m\u001b[0m\u001b[0m\n",
      "\u001b[1;32m~\\.conda\\envs\\tensorflow\\lib\\site-packages\\tensorflow\\python\\client\\session.py\u001b[0m in \u001b[0;36m_run_fn\u001b[1;34m(session, feed_dict, fetch_list, target_list, options, run_metadata)\u001b[0m\n\u001b[0;32m   1119\u001b[0m         return tf_session.TF_Run(session, options,\n\u001b[0;32m   1120\u001b[0m                                  \u001b[0mfeed_dict\u001b[0m\u001b[1;33m,\u001b[0m \u001b[0mfetch_list\u001b[0m\u001b[1;33m,\u001b[0m \u001b[0mtarget_list\u001b[0m\u001b[1;33m,\u001b[0m\u001b[1;33m\u001b[0m\u001b[0m\n\u001b[1;32m-> 1121\u001b[1;33m                                  status, run_metadata)\n\u001b[0m\u001b[0;32m   1122\u001b[0m \u001b[1;33m\u001b[0m\u001b[0m\n\u001b[0;32m   1123\u001b[0m     \u001b[1;32mdef\u001b[0m \u001b[0m_prun_fn\u001b[0m\u001b[1;33m(\u001b[0m\u001b[0msession\u001b[0m\u001b[1;33m,\u001b[0m \u001b[0mhandle\u001b[0m\u001b[1;33m,\u001b[0m \u001b[0mfeed_dict\u001b[0m\u001b[1;33m,\u001b[0m \u001b[0mfetch_list\u001b[0m\u001b[1;33m)\u001b[0m\u001b[1;33m:\u001b[0m\u001b[1;33m\u001b[0m\u001b[0m\n",
      "\u001b[1;31mKeyboardInterrupt\u001b[0m: "
     ]
    }
   ],
   "source": [
    "# according requirement to adjust, can be 7 or other nums(other nums means we dont choose training data) \n",
    "form_ = 5 \n",
    "# input data\n",
    "poetry_file_ = 'D:/code/project-research/Poems_generator/Poems_generator_Keras-master_youyuge/dataset/poetry.txt'\n",
    "\n",
    "# if you would like to train a model, weight_file must not exists, else model will be loaded\n",
    "weight_file_ = 'D:/code/project-research/Poems_generator/a_new_created_filename_atten.h5'\n",
    "\n",
    "# commonly max_len equals form plus 1\n",
    "max_len_ = 6\n",
    "\n",
    "# batch_size default 32, could be changed accordding to your CPU/GPU RAM\n",
    "batch_size_ = 64\n",
    "\n",
    "# learning rate could be changed\n",
    "learning_rate_ = 0.0005\n",
    "\n",
    "# configuration file\n",
    "config_ = Config(poetry_file = poetry_file_, weight_file = weight_file_, max_len = max_len_, batch_size = batch_size_, \n",
    "                           learning_rate = learning_rate_, form = form_)\n",
    "\n",
    "# Attention layer\n",
    "atten_ = Attention(max_len_)\n",
    "\n",
    "# train or loaded a model, it is up to your weight file\n",
    "# use_atten argument default False, which means we train/load model without Attention layer\n",
    "model = PoetryModel(config_, atten_, use_atten = True)\n"
   ]
  },
  {
   "cell_type": "markdown",
   "metadata": {},
   "source": [
    "### 载入不带Attention的五绝写诗模型，其实只需要weight_file就可以了，但为了格式工整，还是附上了所有参数"
   ]
  },
  {
   "cell_type": "code",
   "execution_count": 6,
   "metadata": {},
   "outputs": [
    {
     "name": "stdout",
     "output_type": "stream",
     "text": [
      "model without Attention loaded\n"
     ]
    }
   ],
   "source": [
    "# according requirement to adjust, can be 7 or other nums(other nums means we dont choose training data) \n",
    "form_ = 5\n",
    "\n",
    "# input data\n",
    "poetry_file_ = 'D:/code/project-research/Poems_generator/Poems_generator_Keras-master_youyuge/dataset/poetry.txt'\n",
    "\n",
    "# if you would like to train a model, weight_file must not exists, else model will be loaded\n",
    "weight_file_ = 'D:/code/project-research/Poems_generator/poetry_model_new.h5'\n",
    "\n",
    "# commonly max_len equals form plus 1\n",
    "max_len_ = 6\n",
    "\n",
    "# batch_size default 32, could be changed accordding to your CPU/GPU RAM\n",
    "batch_size_ = 32\n",
    "\n",
    "# learning rate could be changed\n",
    "learning_rate_ = 0.0005\n",
    "\n",
    "# configuration file\n",
    "config_ = Config(poetry_file = poetry_file_, weight_file = weight_file_, max_len = max_len_, batch_size = batch_size_, \n",
    "                           learning_rate = learning_rate_, form = form_)\n",
    "\n",
    "# train or loaded a model, it is up to your weight file\n",
    "# use_atten argument default False, which means we train/load model without Attention layer\n",
    "model = PoetryModel(config_, use_atten = False)\n"
   ]
  },
  {
   "cell_type": "markdown",
   "metadata": {},
   "source": [
    "### 载入带Attention的五绝写诗模型"
   ]
  },
  {
   "cell_type": "code",
   "execution_count": 9,
   "metadata": {
    "scrolled": false
   },
   "outputs": [
    {
     "name": "stdout",
     "output_type": "stream",
     "text": [
      "model with Attention loaded\n"
     ]
    }
   ],
   "source": [
    "# according requirement to adjust, can be 7 or other nums(other nums means we dont choose training data) \n",
    "form_ = 5\n",
    "\n",
    "# input data\n",
    "poetry_file_ = 'D:/code/project-research/Poems_generator/Poems_generator_Keras-master_youyuge/dataset/poetry.txt'\n",
    "\n",
    "# if you would like to train a model, weight_file must not exists, else model will be loaded\n",
    "weight_file_ = 'D:/code/project-research/Poems_generator/poetry_atten_model_6000.h5'\n",
    "\n",
    "# commonly max_len equals form plus 1\n",
    "max_len_ = 6\n",
    "\n",
    "# batch_size default 32, could be changed accordding to your CPU/GPU RAM\n",
    "batch_size_ = 32\n",
    "\n",
    "# learning rate could be changed\n",
    "learning_rate_ = 0.0005\n",
    "\n",
    "# configuration file\n",
    "config_ = Config(poetry_file = poetry_file_, weight_file = weight_file_, max_len = max_len_, batch_size = batch_size_, \n",
    "                           learning_rate = learning_rate_, form = form_)\n",
    "\n",
    "# Attention layer\n",
    "atten_ = Attention(max_len_)\n",
    "\n",
    "# train or loaded a model, it is up to your weight file\n",
    "# use_atten argument default False, which means we train/load model without Attention layer\n",
    "model = PoetryModel(config_, atten_, use_atten = True)\n"
   ]
  },
  {
   "cell_type": "markdown",
   "metadata": {},
   "source": [
    "### 使用训练了6000epoch的带Attention Layer的模型进行测试"
   ]
  },
  {
   "cell_type": "code",
   "execution_count": 15,
   "metadata": {},
   "outputs": [
    {
     "data": {
      "text/plain": [
       "'江南季冬月，山北穷言歌。圣飞水生乘，南年华拂长。'"
      ]
     },
     "execution_count": 15,
     "metadata": {},
     "output_type": "execute_result"
    }
   ],
   "source": [
    "sentence = '江南季冬月，'\n",
    "generate = model.predict_sentence(sentence, 1)\n",
    "generate"
   ]
  },
  {
   "cell_type": "code",
   "execution_count": 18,
   "metadata": {},
   "outputs": [
    {
     "data": {
      "text/plain": [
       "'翁夜往还。月花未灵霜，山三恩尽已。愁泣雪都人，将'"
      ]
     },
     "execution_count": 18,
     "metadata": {},
     "output_type": "execute_result"
    }
   ],
   "source": [
    "sentence = '翁夜往还。月'\n",
    "generate = model.predict_sentence(sentence, 1)\n",
    "generate"
   ]
  }
 ],
 "metadata": {
  "kernelspec": {
   "display_name": "Python 3",
   "language": "python",
   "name": "python3"
  },
  "language_info": {
   "codemirror_mode": {
    "name": "ipython",
    "version": 3
   },
   "file_extension": ".py",
   "mimetype": "text/x-python",
   "name": "python",
   "nbconvert_exporter": "python",
   "pygments_lexer": "ipython3",
   "version": "3.6.2"
  }
 },
 "nbformat": 4,
 "nbformat_minor": 2
}
